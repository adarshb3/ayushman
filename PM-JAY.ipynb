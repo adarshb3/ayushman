{
 "cells": [
  {
   "cell_type": "code",
   "execution_count": 3,
   "metadata": {},
   "outputs": [],
   "source": [
    "import streamlit as st\n",
    "import pandas as pd"
   ]
  },
  {
   "cell_type": "code",
   "execution_count": 6,
   "metadata": {},
   "outputs": [],
   "source": [
    "st.set_page_config(layout=\"wide\")\n",
    "def main():\n",
    "    st.title(\"Dummy Cost Structures\")\n",
    "\n",
    "    uploaded_file = st.file_uploader(\"Dummy Cost Structures.xlsx\", type=[\"xlsx\", \"xls\"])\n",
    "\n",
    "    if uploaded_file:\n",
    "        df = pd.read_excel(uploaded_file)\n",
    "        st.write(\"Data Overview:\")\n",
    "        st.write(df.head())\n",
    "        \n",
    "        # Optional: Add a plot\n",
    "        if st.checkbox('Show Bar Plot'):\n",
    "            st.bar_chart(df.select_dtypes('number'))\n",
    "\n",
    "if __name__ == \"__main__\":\n",
    "    main()\n"
   ]
  },
  {
   "cell_type": "code",
   "execution_count": 5,
   "metadata": {},
   "outputs": [
    {
     "name": "stdout",
     "output_type": "stream",
     "text": [
      "streamlit                     1.27.2Note: you may need to restart the kernel to use updated packages.\n",
      "\n"
     ]
    }
   ],
   "source": [
    "pip list | find \"streamlit\""
   ]
  },
  {
   "cell_type": "code",
   "execution_count": null,
   "metadata": {},
   "outputs": [],
   "source": [
    "import streamlit as st\n",
    "import pandas as pd\n",
    "\n",
    "# Set the page configuration\n",
    "st.set_page_config(layout=\"wide\", initial_sidebar_state=\"collapsed\")\n",
    "\n",
    "# Custom CSS to control the height of the dataframe display\n",
    "st.markdown(\"\"\"\n",
    "<style>\n",
    "    .element-container {\n",
    "        max-height: 1000px;\n",
    "        overflow-y: auto;\n",
    "    }\n",
    "</style>\n",
    "\"\"\", unsafe_allow_html=True)\n",
    "\n",
    "# Define a function to display the DataFrame\n",
    "def main():\n",
    "    st.title(\"Ayushman Bharat Insurance Scheme - Dummy Cost Structure\")\n",
    "\n",
    "    # Read the Excel file directly\n",
    "    df = pd.read_excel(\"D:/App/Cost Structures/Dummy Cost Structures.xlsx\")\n",
    "\n",
    "    # Set the maximum column width to None\n",
    "    pd.set_option('display.max_colwidth', None)\n",
    "\n",
    "    # Display the DataFrame, filling the full width of the container\n",
    "    st.dataframe(df, use_container_width=True)\n",
    "\n",
    "if __name__ == \"__main__\":\n",
    "    main()\n"
   ]
  },
  {
   "cell_type": "code",
   "execution_count": null,
   "metadata": {},
   "outputs": [],
   "source": [
    "import streamlit as st\n",
    "import pandas as pd\n",
    "\n",
    "# Set the page configuration\n",
    "st.set_page_config(layout=\"wide\", initial_sidebar_state=\"collapsed\")\n",
    "\n",
    "# Define a function to display the DataFrame\n",
    "def main():\n",
    "    st.title(\"Ayushman Bharat Insurance Scheme - Dummy Cost Structure\")\n",
    "\n",
    "    # Read the Excel file directly\n",
    "    df = pd.read_excel(\"D:/App/Cost Structures/Dummy Cost Structures.xlsx\")\n",
    "\n",
    "    # Replace NaN values in object (string) columns with empty strings\n",
    "    object_cols = df.select_dtypes(include=[\"object\"]).columns\n",
    "    df[object_cols] = df[object_cols].fillna(\"\")\n",
    "\n",
    "    # Set the maximum column width to None\n",
    "    pd.set_option('display.max_colwidth', None)\n",
    "\n",
    "    # Display the DataFrame\n",
    "    st.table(df)\n",
    "\n",
    "if __name__ == \"__main__\":\n",
    "    main()\n"
   ]
  }
 ],
 "metadata": {
  "kernelspec": {
   "display_name": "base",
   "language": "python",
   "name": "python3"
  },
  "language_info": {
   "codemirror_mode": {
    "name": "ipython",
    "version": 3
   },
   "file_extension": ".py",
   "mimetype": "text/x-python",
   "name": "python",
   "nbconvert_exporter": "python",
   "pygments_lexer": "ipython3",
   "version": "3.11.5"
  }
 },
 "nbformat": 4,
 "nbformat_minor": 2
}
